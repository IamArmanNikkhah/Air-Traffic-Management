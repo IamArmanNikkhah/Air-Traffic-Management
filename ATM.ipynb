{
  "nbformat": 4,
  "nbformat_minor": 0,
  "metadata": {
    "colab": {
      "name": "ATM.ipynb",
      "provenance": [],
      "collapsed_sections": [],
      "authorship_tag": "ABX9TyOJ93P4AzILIyT5uErVhD3X",
      "include_colab_link": true
    },
    "kernelspec": {
      "name": "python3",
      "display_name": "Python 3"
    }
  },
  "cells": [
    {
      "cell_type": "markdown",
      "metadata": {
        "id": "view-in-github",
        "colab_type": "text"
      },
      "source": [
        "<a href=\"https://colab.research.google.com/github/IamArmanNikkhah/Air-Traffic-Management/blob/main/ATM.ipynb\" target=\"_parent\"><img src=\"https://colab.research.google.com/assets/colab-badge.svg\" alt=\"Open In Colab\"/></a>"
      ]
    },
    {
      "cell_type": "code",
      "metadata": {
        "id": "hiuYSNy-1Fl6"
      },
      "source": [
        "class FlightPlan:\n",
        "  def __init__(self,aa:int, fn:int, fd:int, rf:int, sp:bool):\n",
        "    if aa >= 0 and fd >= 0 and rf > 0 and type(sp)==bool and type(fn) == int:\n",
        "      self.aaet = aa\n",
        "      self.flight_duration = fd\n",
        "      self.rFuel = rf\n",
        "      self.specialP =sp\n",
        "      self.flight_number = fn\n",
        "    else:\n",
        "      print(\"FlightPlan: Check your input!\")"
      ],
      "execution_count": null,
      "outputs": []
    },
    {
      "cell_type": "code",
      "metadata": {
        "id": "lM8h5-NEA7Mc"
      },
      "source": [
        "onBound_TIME = 0 # hypothesis-always constant\n",
        "class ATM:\n",
        "  def __init__(self, SCH_algh:str):\n",
        "    alghorithms_ = ['FCFS','non_LFDF','non_LRFF','LFDF','LRFF']\n",
        "    self.scheduling_algh = next(algh for algh in alghorithms_ if algh == SCH_algh)\n",
        "    self.timer = 0\n",
        "    self.all_list = []\n",
        "    self.waiting_list_normal = []\n",
        "    self.waiting_list_vip = []\n",
        "    self.running = None\n",
        "    self.history = []\n",
        "  \n",
        "  def setFlightPlan(self,FP_list):\n",
        "    self.all_list = FP_list\n",
        "  def addFlightPlan(self,FP_item):\n",
        "    self.all_list.append(FP_item)\n",
        "  \n",
        "  def addtimer(self,t = 1):\n",
        "    self.timer += t\n",
        "    for plan in self.all_list.copy():\n",
        "      if plan.aaet <= self.timer and not plan.specialP:\n",
        "        self.waiting_list_normal.append(plan)\n",
        "        self.all_list.remove(plan)\n",
        "\n",
        "      elif plan.aaet <= self.timer and plan.specialP:\n",
        "        self.waiting_list_vip.append(plan)\n",
        "        self.all_list.remove(plan)\n",
        "\n",
        "\n",
        "  def run(self, fp, cond_func):\n",
        "    self.running = fp\n",
        "    self.history.append(\"running process : \" + str(self.running.flight_number) + ' at time :' + str(self.timer))\n",
        "\n",
        "    \n",
        "    if fp in self.waiting_list_normal: \n",
        "      wlist = self.waiting_list_normal\n",
        "      if self.waiting_list_vip: self.history.append(\"VIP list is not empty!!\")\n",
        "    elif fp in self.waiting_list_vip: wlist = self.waiting_list_vip\n",
        "    else: print(\"ATM : error running process -> doesnt exist\")\n",
        "    cond = cond_func(fp, wlist)\n",
        "    for i in range (0,onBound_TIME + 1) : ###\n",
        "      if not cond:\n",
        "        break\n",
        "      self.addtimer()\n",
        "      cond = cond_func(fp, wlist)\n",
        "    self.running = None\n",
        "    if i == onBound_TIME and cond:\n",
        "      wlist.remove(fp)\n",
        "      self.history.append(\" process : \" + str(fp.flight_number) + ' finished at time :' + str(self.timer))\n",
        "      return True\n",
        "    else:\n",
        "      self.history.append(\"process : \" + str(fp.flight_number) + \"Blocked!\")\n",
        "      return False\n",
        "\n",
        "\n",
        "  def noCOND(fp, Wlist):\n",
        "    return True\n",
        "  \n",
        "  def lfCOND(fp, Wlist):\n",
        "    for item in Wlist:\n",
        "      if item.flight_duration > fp.flight_duration:\n",
        "        return False\n",
        "    return True\n",
        "\n",
        "  def lrCOND(fp, Wlist):\n",
        "    for item in Wlist:\n",
        "      if item.rFuel < fp.rFuel:\n",
        "        return False\n",
        "    return True\n",
        "  \n",
        "  def FCFS(self, cond_func = noCOND):\n",
        "    \n",
        "    while self.waiting_list_normal or self.waiting_list_vip:\n",
        "      self.waiting_list_normal.sort(reverse = False, key = lambda x: x.flight_number)\n",
        "      self.waiting_list_vip.sort(reverse = False, key = lambda x: x.flight_number)\n",
        "      if self.waiting_list_vip:\n",
        "        self.run(next(iter(self.waiting_list_vip)), cond_func)\n",
        "      else:\n",
        "        self.run(next(iter(self.waiting_list_normal)), cond_func)\n",
        "    \n",
        "\n",
        "  def non_LFDF(self, cond_func = noCOND):\n",
        "    while self.waiting_list_normal or self.waiting_list_vip:\n",
        "      self.waiting_list_vip.sort(reverse = True, key = lambda x: x.flight_duration)\n",
        "      self.waiting_list_normal.sort(reverse = True, key = lambda x: x.flight_duration)\n",
        "      if self.waiting_list_vip:\n",
        "        self.run(next(iter(self.waiting_list_vip)), cond_func)\n",
        "      else:\n",
        "        self.run(next(iter(self.waiting_list_normal)), cond_func)  \n",
        "\n",
        "  def non_LRFF(self, cond_func = noCOND):\n",
        "    while self.waiting_list_normal or self.waiting_list_vip:\n",
        "      self.waiting_list_normal.sort(reverse = False, key = lambda x: x.rFuel)\n",
        "      self.waiting_list_vip.sort(reverse = False, key = lambda x: x.rFuel)\n",
        "      if self.waiting_list_vip:\n",
        "        self.run(next(iter(self.waiting_list_vip)), cond_func)\n",
        "      else:\n",
        "        self.run(next(iter(self.waiting_list_normal)), cond_func)\n",
        "\n",
        "  def LFDF(self, cond_func = lfCOND):\n",
        "    self.non_LFDF(cond_func)\n",
        "\n",
        "  def LRFF(self, cond_func = lrCOND):\n",
        "    self.non_LRFF(cond_func)\n",
        "\n",
        "\n",
        "  def start(self):\n",
        "    while self.all_list or self.waiting_list_normal or self.waiting_list_vip:\n",
        "      if not self.waiting_list_normal and not self.waiting_list_vip:\n",
        "        self.addtimer()\n",
        "      self.FCFS() # for running diffrent alghorithm use : self.non_LFDF() OR  self.non_LRFF() OR self.LFDF()  OR  self.LRFF()\n",
        "    print(self.history)\n",
        "\n"
      ],
      "execution_count": null,
      "outputs": []
    },
    {
      "cell_type": "code",
      "metadata": {
        "id": "vprJdD3t5YU3"
      },
      "source": [
        "F1 = FlightPlan(2, 553, 20, 10, False)\n",
        "F2 = FlightPlan(5, 445, 15, 12, False)\n",
        "F3 = FlightPlan(5, 212, 50, 10, True)\n",
        "F4 = FlightPlan(5, 788, 11, 15, False)\n",
        "F5 = FlightPlan(7, 600, 4, 1, True)\n",
        "F6 = FlightPlan(8, 620, 2, 14, False)\n",
        "f_list = {F1, F2, F3, F4, F5, F6}"
      ],
      "execution_count": null,
      "outputs": []
    },
    {
      "cell_type": "code",
      "metadata": {
        "id": "kzE1PvGd6J5l",
        "colab": {
          "base_uri": "https://localhost:8080/"
        },
        "outputId": "397f4807-8341-460c-cbda-52f58475cd63"
      },
      "source": [
        "Sys = ATM('FCFS')\n",
        "Sys.setFlightPlan(f_list)\n",
        "Sys.start()"
      ],
      "execution_count": null,
      "outputs": [
        {
          "output_type": "stream",
          "text": [
            "['running process : 553 at time :2']\n",
            "['running process : 553 at time :2', ' process : 553 finished at time :3', 'running process : 212 at time :5']\n",
            "['running process : 553 at time :2', ' process : 553 finished at time :3', 'running process : 212 at time :5', ' process : 212 finished at time :6', 'running process : 445 at time :6']\n",
            "['running process : 553 at time :2', ' process : 553 finished at time :3', 'running process : 212 at time :5', ' process : 212 finished at time :6', 'running process : 445 at time :6', ' process : 445 finished at time :7', 'running process : 600 at time :7']\n",
            "['running process : 553 at time :2', ' process : 553 finished at time :3', 'running process : 212 at time :5', ' process : 212 finished at time :6', 'running process : 445 at time :6', ' process : 445 finished at time :7', 'running process : 600 at time :7', ' process : 600 finished at time :8', 'running process : 620 at time :8']\n",
            "['running process : 553 at time :2', ' process : 553 finished at time :3', 'running process : 212 at time :5', ' process : 212 finished at time :6', 'running process : 445 at time :6', ' process : 445 finished at time :7', 'running process : 600 at time :7', ' process : 600 finished at time :8', 'running process : 620 at time :8', ' process : 620 finished at time :9', 'running process : 788 at time :9']\n",
            "['running process : 553 at time :2', ' process : 553 finished at time :3', 'running process : 212 at time :5', ' process : 212 finished at time :6', 'running process : 445 at time :6', ' process : 445 finished at time :7', 'running process : 600 at time :7', ' process : 600 finished at time :8', 'running process : 620 at time :8', ' process : 620 finished at time :9', 'running process : 788 at time :9', ' process : 788 finished at time :10']\n"
          ],
          "name": "stdout"
        }
      ]
    }
  ]
}